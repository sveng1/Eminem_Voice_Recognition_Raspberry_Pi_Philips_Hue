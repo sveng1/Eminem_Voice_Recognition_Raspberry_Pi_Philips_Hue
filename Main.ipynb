{
 "cells": [
  {
   "cell_type": "code",
   "execution_count": 2,
   "metadata": {},
   "outputs": [],
   "source": [
    "from tensorflow.keras.models import load_model\n",
    "from utils import audio2spectrogram, load_audio_to_spectrogram\n",
    "import time\n",
    "import sounddevice as sd\n",
    "from utils import audio2spectrogram, eminem_light\n",
    "import numpy as np\n",
    "from hue_functions import set_color_all, get_light_state, get_connected_lights\n",
    "from user import bridge_url, hue_user"
   ]
  },
  {
   "cell_type": "markdown",
   "metadata": {},
   "source": [
    "#### Load crnn model"
   ]
  },
  {
   "cell_type": "code",
   "execution_count": 3,
   "metadata": {},
   "outputs": [],
   "source": [
    "model = load_model('best_model_3_sec.h5')"
   ]
  },
  {
   "cell_type": "code",
   "execution_count": 7,
   "metadata": {},
   "outputs": [
    {
     "name": "stdout",
     "output_type": "stream",
     "text": [
      "Fri Apr 10 18:01:06 2020\n",
      "Fri Apr 10 18:01:10 2020\n",
      "Fri Apr 10 18:01:18 2020\n",
      "Fri Apr 10 18:01:24 2020\n",
      "Stopped by user\n"
     ]
    }
   ],
   "source": [
    "time_step = 6\n",
    "starttime=time.time()\n",
    "\n",
    "sr = 16000\n",
    "seconds = 3\n",
    "frames = int(seconds * sr)\n",
    "\n",
    "# Get current hue and saturation value for each connected light\n",
    "lights = get_connected_lights(bridge_url, hue_user)\n",
    "previous_color = [[get_light_state(l)[key] for key in ['hue','sat']] for l in lights]\n",
    "state = 'not eminem'\n",
    "\n",
    "try:\n",
    "    while True:\n",
    "        print(time.ctime())\n",
    "        recording = sd.rec(frames=frames, samplerate=sr, channels=1)\n",
    "        sd.wait()\n",
    "        recording = recording.reshape(-1)\n",
    "        spec = audio2spectrogram(recording)\n",
    "        prediction = np.random.randint(2, size=1)\n",
    "        #prediction = np.argmax(model.predict(spec)[0])\n",
    "        if not (state == 'not eminem' and prediction == 0):\n",
    "            state, previous_color = eminem_light(bridge_url, hue_user, prediction, state, previous_color)\n",
    "            time.sleep(time_step - ((time.time() - starttime) % time_step))\n",
    "except KeyboardInterrupt:\n",
    "    print('Stopped by user')"
   ]
  },
  {
   "cell_type": "code",
   "execution_count": null,
   "metadata": {},
   "outputs": [],
   "source": []
  }
 ],
 "metadata": {
  "kernelspec": {
   "display_name": "Python 3",
   "language": "python",
   "name": "python3"
  },
  "language_info": {
   "codemirror_mode": {
    "name": "ipython",
    "version": 3
   },
   "file_extension": ".py",
   "mimetype": "text/x-python",
   "name": "python",
   "nbconvert_exporter": "python",
   "pygments_lexer": "ipython3",
   "version": "3.7.2"
  }
 },
 "nbformat": 4,
 "nbformat_minor": 2
}
